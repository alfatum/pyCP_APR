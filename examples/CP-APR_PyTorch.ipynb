{
 "cells": [
  {
   "cell_type": "markdown",
   "metadata": {},
   "source": [
    "# Example CP-APR with PyTorch"
   ]
  },
  {
   "cell_type": "code",
   "execution_count": 1,
   "metadata": {},
   "outputs": [],
   "source": [
    "import scipy.io as spio\n",
    "import numpy as np"
   ]
  },
  {
   "cell_type": "markdown",
   "metadata": {},
   "source": [
    "Load the sample dataset:"
   ]
  },
  {
   "cell_type": "code",
   "execution_count": 2,
   "metadata": {},
   "outputs": [],
   "source": [
    "X = spio.loadmat('../data/test_data/subs.mat', squeeze_me=True)['values'] - 1\n",
    "vals = spio.loadmat('../data/test_data/vals_count.mat', squeeze_me=True)['values']"
   ]
  },
  {
   "cell_type": "markdown",
   "metadata": {},
   "source": [
    "We can also set the initial values of the latent factors:"
   ]
  },
  {
   "cell_type": "code",
   "execution_count": 3,
   "metadata": {},
   "outputs": [],
   "source": [
    "# Initial factor values\n",
    "M_init = dict()\n",
    "dim = 0\n",
    "for key, values in spio.loadmat('../data/test_data/minit.mat', squeeze_me=True).items():\n",
    "    if 'init_f' in key:\n",
    "        M_init[str(dim)] = values\n",
    "        dim += 1"
   ]
  },
  {
   "cell_type": "markdown",
   "metadata": {},
   "source": [
    "## PyTorch on GPU with initial M values"
   ]
  },
  {
   "cell_type": "markdown",
   "metadata": {},
   "source": [
    "Initilize:"
   ]
  },
  {
   "cell_type": "code",
   "execution_count": 4,
   "metadata": {},
   "outputs": [
    {
     "name": "stdout",
     "output_type": "stream",
     "text": [
      "Using TITAN RTX\n"
     ]
    }
   ],
   "source": [
    "from pyCP_APR import CP_APR\n",
    "\n",
    "cp_apr = CP_APR(n_iters=100, verbose=10, method='torch', device='gpu', device_num=0)"
   ]
  },
  {
   "cell_type": "markdown",
   "metadata": {},
   "source": [
    "Take the CP-APR decomposition:"
   ]
  },
  {
   "cell_type": "code",
   "execution_count": 5,
   "metadata": {},
   "outputs": [
    {
     "name": "stderr",
     "output_type": "stream",
     "text": [
      "/opt/conda/envs/pyCP_APR/lib/python3.8/site-packages/pyCP_APR-1.0.0-py3.8.egg/pyCP_APR/torch_cp/CP_APR_Torch.py:422: UserWarning: To copy construct from a tensor, it is recommended to use sourceTensor.clone().detach() or sourceTensor.clone().detach().requires_grad_(True), rather than torch.tensor(sourceTensor).\n",
      "  self.epsilon = tr.tensor(self.epsilon).to(self.device)\n"
     ]
    },
    {
     "name": "stdout",
     "output_type": "stream",
     "text": [
      "CP-APR (MU):\n",
      "Iter=1, Inner Iter=30, KKT Violation=0.397068, obj=-5012.285626, nViolations=0\n",
      "Iter=11, Inner Iter=21, KKT Violation=0.137084, obj=-3147.301615, nViolations=0\n",
      "Iter=21, Inner Iter=19, KKT Violation=0.000397, obj=-3145.330122, nViolations=0\n",
      "Iter=31, Inner Iter=12, KKT Violation=0.000108, obj=-3145.325967, nViolations=0\n",
      "Iter=41, Inner Iter=12, KKT Violation=0.000108, obj=-3145.325967, nViolations=0\n",
      "Iter=51, Inner Iter=12, KKT Violation=0.000108, obj=-3145.325967, nViolations=0\n",
      "Iter=61, Inner Iter=12, KKT Violation=0.000217, obj=-3145.325966, nViolations=0\n",
      "Iter=71, Inner Iter=12, KKT Violation=0.000438, obj=-3145.325963, nViolations=0\n",
      "Iter=81, Inner Iter=12, KKT Violation=0.000672, obj=-3145.325959, nViolations=0\n",
      "Iter=91, Inner Iter=13, KKT Violation=0.001141, obj=-3145.325950, nViolations=0\n",
      "===========================================\n",
      " Final log-likelihood = -3145.325933\n",
      " Final least squares fit = 0.017369\n",
      " Final KKT violation = 0.001531\n",
      " Total inner iterations = 1462\n",
      " Total execution time = 1.0486 seconds\n",
      "Converting the latent factors to Numpy arrays.\n"
     ]
    }
   ],
   "source": [
    "result = cp_apr.fit(coords=X, values=vals, rank=2, Minit=M_init)"
   ]
  },
  {
   "cell_type": "code",
   "execution_count": 6,
   "metadata": {},
   "outputs": [
    {
     "data": {
      "text/plain": [
       "{'Factors': {'0': array([[5.88838457e-51, 2.13058370e-01],\n",
       "         [3.23364716e-04, 1.34610100e-01],\n",
       "         [2.05013230e-01, 7.12928005e-37],\n",
       "         [1.48424405e-01, 0.00000000e+00],\n",
       "         [9.76200219e-02, 1.48477484e-01],\n",
       "         [2.51566211e-02, 2.06908903e-01],\n",
       "         [1.43573934e-01, 3.34319439e-88],\n",
       "         [2.61925420e-01, 4.76257924e-33],\n",
       "         [9.37106506e-02, 1.87295857e-01],\n",
       "         [2.42523537e-02, 1.09649287e-01]]),\n",
       "  '1': array([[2.31775360e-241, 5.03672967e-002],\n",
       "         [7.79309622e-002, 1.00144467e-137],\n",
       "         [0.00000000e+000, 7.84481789e-002],\n",
       "         [1.23105143e-001, 9.77480876e-002],\n",
       "         [3.30736653e-002, 5.64828345e-002],\n",
       "         [1.56285154e-078, 9.36029407e-003],\n",
       "         [4.85047483e-002, 0.00000000e+000],\n",
       "         [1.38753783e-001, 1.68960429e-002],\n",
       "         [6.85533776e-002, 8.11225486e-002],\n",
       "         [9.22432344e-003, 3.54237911e-002],\n",
       "         [8.73085469e-002, 0.00000000e+000],\n",
       "         [1.71383444e-002, 6.32934171e-002],\n",
       "         [9.62161001e-170, 1.33718487e-002],\n",
       "         [7.11352525e-003, 4.68021658e-002],\n",
       "         [4.02626509e-002, 5.12076166e-003],\n",
       "         [7.08169325e-002, 2.10106367e-110],\n",
       "         [2.16654542e-002, 7.17622545e-002],\n",
       "         [2.58691991e-002, 1.10094887e-001],\n",
       "         [2.91028490e-002, 1.24803921e-002],\n",
       "         [0.00000000e+000, 3.12009802e-003],\n",
       "         [2.87794840e-002, 0.00000000e+000],\n",
       "         [3.05164161e-002, 1.26867006e-001],\n",
       "         [1.94018993e-003, 1.60462184e-002],\n",
       "         [7.76075972e-003, 8.76833952e-159],\n",
       "         [1.00243146e-002, 0.00000000e+000],\n",
       "         [3.22880128e-044, 7.22079828e-002],\n",
       "         [3.10430389e-002, 0.00000000e+000],\n",
       "         [2.39290092e-002, 3.29838934e-002],\n",
       "         [0.00000000e+000, 0.00000000e+000],\n",
       "         [6.75832826e-002, 0.00000000e+000]]),\n",
       "  '2': array([[2.71626813e-002, 0.00000000e+000],\n",
       "         [1.68530286e-003, 4.18040234e-002],\n",
       "         [0.00000000e+000, 2.00577503e-002],\n",
       "         [0.00000000e+000, 5.34873341e-002],\n",
       "         [0.00000000e+000, 2.89723060e-002],\n",
       "         [4.00972915e-002, 4.85187813e-161],\n",
       "         [4.49477703e-002, 0.00000000e+000],\n",
       "         [0.00000000e+000, 3.78868617e-002],\n",
       "         [6.33795898e-002, 0.00000000e+000],\n",
       "         [2.00486458e-002, 0.00000000e+000],\n",
       "         [3.88038305e-002, 0.00000000e+000],\n",
       "         [6.01459373e-002, 0.00000000e+000],\n",
       "         [6.46680432e-003, 2.98644518e-002],\n",
       "         [4.36543093e-002, 0.00000000e+000],\n",
       "         [2.04624633e-002, 5.96028434e-002],\n",
       "         [1.29022736e-001, 0.00000000e+000],\n",
       "         [5.40019974e-002, 0.00000000e+000],\n",
       "         [5.17384407e-003, 0.00000000e+000],\n",
       "         [7.76076610e-003, 8.91455569e-004],\n",
       "         [0.00000000e+000, 0.00000000e+000],\n",
       "         [2.93323262e-005, 1.68972240e-002],\n",
       "         [5.82057457e-003, 0.00000000e+000],\n",
       "         [0.00000000e+000, 1.80074025e-001],\n",
       "         [1.61326900e-002, 1.34208671e-002],\n",
       "         [1.29370568e-002, 7.30959842e-002],\n",
       "         [1.61682627e-002, 0.00000000e+000],\n",
       "         [7.95478525e-002, 3.34295838e-002],\n",
       "         [1.09620821e-001, 0.00000000e+000],\n",
       "         [0.00000000e+000, 3.12009449e-003],\n",
       "         [2.39290288e-002, 2.80808504e-002],\n",
       "         [0.00000000e+000, 9.98430237e-002],\n",
       "         [4.07440220e-002, 0.00000000e+000],\n",
       "         [6.79067034e-003, 1.38175613e-002],\n",
       "         [5.10917101e-002, 7.75566345e-002],\n",
       "         [9.05422711e-003, 4.41270507e-002],\n",
       "         [0.00000000e+000, 9.36028348e-002],\n",
       "         [1.00243229e-002, 0.00000000e+000],\n",
       "         [0.00000000e+000, 3.69954061e-002],\n",
       "         [2.29589330e-002, 1.33718335e-002],\n",
       "         [3.23365254e-002, 0.00000000e+000]])},\n",
       " 'Weights': array([3092.47820339, 2243.52179661])}"
      ]
     },
     "execution_count": 6,
     "metadata": {},
     "output_type": "execute_result"
    }
   ],
   "source": [
    "result"
   ]
  },
  {
   "cell_type": "markdown",
   "metadata": {},
   "source": [
    "## PyTorch with Sparse Torch Tensor as X on GPU:"
   ]
  },
  {
   "cell_type": "code",
   "execution_count": 7,
   "metadata": {},
   "outputs": [
    {
     "data": {
      "text/plain": [
       "tensor(indices=tensor([[0, 1, 1],\n",
       "                       [2, 0, 2],\n",
       "                       [2, 0, 1]]),\n",
       "       values=tensor([3., 4., 5.]),\n",
       "       device='cpu', size=(4, 4, 4), nnz=3, dtype=torch.float32,\n",
       "       layout=torch.sparse_coo)"
      ]
     },
     "execution_count": 7,
     "metadata": {},
     "output_type": "execute_result"
    }
   ],
   "source": [
    "import torch\n",
    "\n",
    "i = torch.LongTensor([[0, 1, 1],\n",
    "                      [2, 0, 2],\n",
    "                      [2, 0, 1]])\n",
    "\n",
    "v = torch.FloatTensor([3, 4, 5])\n",
    "X = torch.sparse.FloatTensor(i, v, torch.Size([4,4,4]))\n",
    "X"
   ]
  },
  {
   "cell_type": "code",
   "execution_count": 8,
   "metadata": {},
   "outputs": [
    {
     "name": "stdout",
     "output_type": "stream",
     "text": [
      "Using TITAN RTX\n",
      "CP-APR (MU):\n",
      "Iter=1, Inner Iter=30, KKT Violation=0.425532, obj=4.887921, nViolations=0\n",
      "Exiting because all subproblems reached KKT tol.\n",
      "===========================================\n",
      " Final log-likelihood = 4.888204\n",
      " Final least squares fit = 0.999995\n",
      " Final KKT violation = 0.000007\n",
      " Total inner iterations = 37\n",
      " Total execution time = 0.2338 seconds\n",
      "Converting the latent factors to Numpy arrays.\n"
     ]
    }
   ],
   "source": [
    "cp_apr = CP_APR(n_iters=100, verbose=10, device='gpu')\n",
    "result = cp_apr.fit(tensor=X, rank=30)"
   ]
  },
  {
   "cell_type": "code",
   "execution_count": null,
   "metadata": {},
   "outputs": [],
   "source": []
  }
 ],
 "metadata": {
  "language_info": {
   "codemirror_mode": {
    "name": "ipython",
    "version": 3
   },
   "file_extension": ".py",
   "mimetype": "text/x-python",
   "name": "python",
   "nbconvert_exporter": "python",
   "pygments_lexer": "ipython3",
   "version": "3.8.5"
  }
 },
 "nbformat": 4,
 "nbformat_minor": 4
}
