{
 "cells": [
  {
   "cell_type": "markdown",
   "metadata": {},
   "source": [
    "# Example CP-APR with Dense Numpy Tensor"
   ]
  },
  {
   "cell_type": "code",
   "execution_count": 1,
   "metadata": {},
   "outputs": [],
   "source": [
    "import scipy.io as spio\n",
    "import numpy as np"
   ]
  },
  {
   "cell_type": "markdown",
   "metadata": {},
   "source": [
    "Create a order 3 tensor with random count values:"
   ]
  },
  {
   "cell_type": "code",
   "execution_count": 2,
   "metadata": {},
   "outputs": [
    {
     "data": {
      "text/plain": [
       "array([[[    1,     2,     3, ...,    38,    39,    40],\n",
       "        [   41,    42,    43, ...,    78,    79,    80],\n",
       "        [   81,    82,    83, ...,   118,   119,   120],\n",
       "        ...,\n",
       "        [ 1081,  1082,  1083, ...,  1118,  1119,  1120],\n",
       "        [ 1121,  1122,  1123, ...,  1158,  1159,  1160],\n",
       "        [ 1161,  1162,  1163, ...,  1198,  1199,  1200]],\n",
       "\n",
       "       [[ 1201,  1202,  1203, ...,  1238,  1239,  1240],\n",
       "        [ 1241,  1242,  1243, ...,  1278,  1279,  1280],\n",
       "        [ 1281,  1282,  1283, ...,  1318,  1319,  1320],\n",
       "        ...,\n",
       "        [ 2281,  2282,  2283, ...,  2318,  2319,  2320],\n",
       "        [ 2321,  2322,  2323, ...,  2358,  2359,  2360],\n",
       "        [ 2361,  2362,  2363, ...,  2398,  2399,  2400]],\n",
       "\n",
       "       [[ 2401,  2402,  2403, ...,  2438,  2439,  2440],\n",
       "        [ 2441,  2442,  2443, ...,  2478,  2479,  2480],\n",
       "        [ 2481,  2482,  2483, ...,  2518,  2519,  2520],\n",
       "        ...,\n",
       "        [ 3481,  3482,  3483, ...,  3518,  3519,  3520],\n",
       "        [ 3521,  3522,  3523, ...,  3558,  3559,  3560],\n",
       "        [ 3561,  3562,  3563, ...,  3598,  3599,  3600]],\n",
       "\n",
       "       ...,\n",
       "\n",
       "       [[ 8401,  8402,  8403, ...,  8438,  8439,  8440],\n",
       "        [ 8441,  8442,  8443, ...,  8478,  8479,  8480],\n",
       "        [ 8481,  8482,  8483, ...,  8518,  8519,  8520],\n",
       "        ...,\n",
       "        [ 9481,  9482,  9483, ...,  9518,  9519,  9520],\n",
       "        [ 9521,  9522,  9523, ...,  9558,  9559,  9560],\n",
       "        [ 9561,  9562,  9563, ...,  9598,  9599,  9600]],\n",
       "\n",
       "       [[ 9601,  9602,  9603, ...,  9638,  9639,  9640],\n",
       "        [ 9641,  9642,  9643, ...,  9678,  9679,  9680],\n",
       "        [ 9681,  9682,  9683, ...,  9718,  9719,  9720],\n",
       "        ...,\n",
       "        [10681, 10682, 10683, ..., 10718, 10719, 10720],\n",
       "        [10721, 10722, 10723, ..., 10758, 10759, 10760],\n",
       "        [10761, 10762, 10763, ..., 10798, 10799, 10800]],\n",
       "\n",
       "       [[10801, 10802, 10803, ..., 10838, 10839, 10840],\n",
       "        [10841, 10842, 10843, ..., 10878, 10879, 10880],\n",
       "        [10881, 10882, 10883, ..., 10918, 10919, 10920],\n",
       "        ...,\n",
       "        [11881, 11882, 11883, ..., 11918, 11919, 11920],\n",
       "        [11921, 11922, 11923, ..., 11958, 11959, 11960],\n",
       "        [11961, 11962, 11963, ..., 11998, 11999, 12000]]])"
      ]
     },
     "execution_count": 2,
     "metadata": {},
     "output_type": "execute_result"
    }
   ],
   "source": [
    "X = np.arange(1, 12001).reshape([10,30,40])\n",
    "X"
   ]
  },
  {
   "cell_type": "markdown",
   "metadata": {},
   "source": [
    "Initilize CP-APR:"
   ]
  },
  {
   "cell_type": "code",
   "execution_count": 3,
   "metadata": {},
   "outputs": [],
   "source": [
    "from pyCP_APR import CP_APR\n",
    "\n",
    "cp_apr = CP_APR(n_iters=100, simple_verbose=True, method='numpy')"
   ]
  },
  {
   "cell_type": "markdown",
   "metadata": {},
   "source": [
    "Take the CP-APR decomposition:"
   ]
  },
  {
   "cell_type": "code",
   "execution_count": 4,
   "metadata": {},
   "outputs": [
    {
     "name": "stderr",
     "output_type": "stream",
     "text": [
      "100%|██████████| 100/100 [00:11<00:00,  8.96it/s]\n"
     ]
    }
   ],
   "source": [
    "result = cp_apr.fit(tensor=X, Type='tensor', rank=2)"
   ]
  },
  {
   "cell_type": "code",
   "execution_count": 5,
   "metadata": {},
   "outputs": [
    {
     "data": {
      "text/plain": [
       "dict_keys(['Factors', 'Weights'])"
      ]
     },
     "execution_count": 5,
     "metadata": {},
     "output_type": "execute_result"
    }
   ],
   "source": [
    "result.keys()"
   ]
  },
  {
   "cell_type": "code",
   "execution_count": 6,
   "metadata": {},
   "outputs": [
    {
     "name": "stdout",
     "output_type": "stream",
     "text": [
      "Component 0:\n",
      " [[2.74415558e-02 8.77862465e-27]\n",
      " [8.22789695e-02 2.44572417e-07]\n",
      " [1.37116383e-01 2.63674838e-04]\n",
      " [1.91953797e-01 5.12487655e-03]\n",
      " [2.46791211e-01 2.75458393e-02]\n",
      " [3.01628625e-01 8.23806649e-02]\n",
      " [3.56466038e-01 1.80843345e-01]\n",
      " [4.11303452e-01 3.26753896e-01]\n",
      " [4.66140866e-01 5.21119331e-01]\n",
      " [5.20978280e-01 7.62489697e-01]] \n",
      "Gamma 0: 11385169.326804055\n"
     ]
    }
   ],
   "source": [
    "M = result['Factors']\n",
    "Gamma = result['Weights']\n",
    "\n",
    "M_0 = M['0']\n",
    "Gamma_0 = Gamma[0]\n",
    "\n",
    "print('Component 0:\\n', M_0, '\\nGamma 0:', Gamma_0)"
   ]
  },
  {
   "cell_type": "code",
   "execution_count": null,
   "metadata": {},
   "outputs": [],
   "source": []
  }
 ],
 "metadata": {
  "kernelspec": {
   "display_name": "pyCP_ALS",
   "language": "python",
   "name": "pycp_als"
  },
  "language_info": {
   "codemirror_mode": {
    "name": "ipython",
    "version": 3
   },
   "file_extension": ".py",
   "mimetype": "text/x-python",
   "name": "python",
   "nbconvert_exporter": "python",
   "pygments_lexer": "ipython3",
   "version": "3.8.5"
  }
 },
 "nbformat": 4,
 "nbformat_minor": 4
}
